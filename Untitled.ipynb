{
 "cells": [
  {
   "cell_type": "code",
   "execution_count": 68,
   "id": "4477f43f-fcc8-41dc-8849-c554565467bb",
   "metadata": {},
   "outputs": [],
   "source": [
    "def crc32(message:bytearray, poly:int):\n",
    "    bitmask = 0xFFFFFFFF\n",
    "    crc = 0\n",
    "\n",
    "    for byte in message:\n",
    "        for _ in range(8):\n",
    "            b = byte & (1<<7) != 0 \n",
    "            byte <<= 1\n",
    "            divide = True if (crc & (1<<31)) != 0 else False\n",
    "            crc = (crc << 1) | b\n",
    "            if divide:\n",
    "                crc ^= poly\n",
    "\n",
    "    return (crc & bitmask)"
   ]
  },
  {
   "cell_type": "code",
   "execution_count": 71,
   "id": "f416c09c-0a5e-45a2-ad16-fbb3544c47a8",
   "metadata": {},
   "outputs": [],
   "source": [
    "def crc32_improved(message:bytearray, poly:int, init:int=0, final_xor:int=0):\n",
    "    bitmask = 0xFFFFFFFF\n",
    "    crc = init\n",
    "    for byte in message:\n",
    "        for _ in range(8):\n",
    "            b = bitmask if byte & (1<<7) != 0 else 0\n",
    "            byte <<= 1\n",
    "            divide = bitmask if (crc & (1 << 31)) != 0 else 0\n",
    "            crc = (crc << 1) ^ (poly & (b ^ divide))\n",
    "\n",
    "    return (crc & bitmask) ^ final_xor\n",
    "            "
   ]
  },
  {
   "cell_type": "code",
   "execution_count": 78,
   "id": "9576283a-d84a-47ac-98eb-76f2a330ba1f",
   "metadata": {},
   "outputs": [],
   "source": [
    "from functools import lru_cache\n",
    "\n",
    "@lru_cache\n",
    "def create_lut(poly): return [crc32_improved(bytearray([x]), poly) for x in range(256)]\n",
    "\n",
    "def crc32_lut(message:bytearray, poly:int):\n",
    "    bitmask = 0xFFFFFFFF\n",
    "    crc = 0\n",
    "    lut = create_lut(poly)\n",
    "\n",
    "    for byte in message:\n",
    "        index = (int(byte) ^ (crc >> 24)) & 0xFF\n",
    "        crc = (crc << 8) ^ lut[index]\n",
    "\n",
    "    return crc & bitmask"
   ]
  },
  {
   "cell_type": "code",
   "execution_count": 79,
   "id": "50fbab1c-c15e-4d99-82cc-f856eb6c7b72",
   "metadata": {},
   "outputs": [
    {
     "name": "stdout",
     "output_type": "stream",
     "text": [
      "bytearray(b'I love pizza!')\n",
      "0x920a6310\n",
      "0x920a6310\n",
      "0x920a6310\n",
      "0x0\n"
     ]
    }
   ],
   "source": [
    "data = bytearray(b'I love pizza!') \n",
    "poly = 0x4c11db7\n",
    "checksum = crc32(data + bytearray(4), poly)\n",
    "checksum_improved = crc32_improved(data, poly, final_xor=0)\n",
    "checksum_lut = crc32_lut(data, poly)\n",
    "\n",
    "print(data)\n",
    "print(hex(checksum))\n",
    "print(hex(checksum_improved))\n",
    "print(hex(checksum_lut))\n",
    "\n",
    "data_with_checksum = data + bytearray([(checksum >> 24) & 0xFF,(checksum >> 16) & 0xFF,(checksum >> 8) & 0xFF,(checksum) & 0xFF])\n",
    "checked_data = crc32(data_with_checksum, poly)\n",
    "\n",
    "print(hex(checked_data))\n"
   ]
  },
  {
   "cell_type": "raw",
   "id": "3119a15c-c160-4beb-b7b4-e677d7f9ad4d",
   "metadata": {},
   "source": []
  }
 ],
 "metadata": {
  "kernelspec": {
   "display_name": "Python 3 (ipykernel)",
   "language": "python",
   "name": "python3"
  },
  "language_info": {
   "codemirror_mode": {
    "name": "ipython",
    "version": 3
   },
   "file_extension": ".py",
   "mimetype": "text/x-python",
   "name": "python",
   "nbconvert_exporter": "python",
   "pygments_lexer": "ipython3",
   "version": "3.10.12"
  }
 },
 "nbformat": 4,
 "nbformat_minor": 5
}
