{
 "cells": [
  {
   "cell_type": "code",
   "execution_count": 31,
   "id": "4477f43f-fcc8-41dc-8849-c554565467bb",
   "metadata": {},
   "outputs": [],
   "source": [
    "def crc32(message:bytearray, poly:int):\n",
    "    # bitmask = 0xFFFFFFFF\n",
    "    # crc = bitmask\n",
    "\n",
    "    # for byte in message:\n",
    "    #     for _ in range(8):\n",
    "    #         divide = bitmask if (crc & (1<<31) != 0) else 0\n",
    "    #         b = byte & (1<<7) != 0\n",
    "    #         byte <<= 1\n",
    "    #         crc = (crc << 1) | b\n",
    "    #         crc = (poly & divide) ^ crc\n",
    "\n",
    "    bitmask = 0xFFFFFFFF\n",
    "    crc = 0\n",
    "\n",
    "    for byte in message:\n",
    "        for _ in range(8):\n",
    "            b = byte & (1<<7) != 0\n",
    "            divide = bitmask if (crc & (1<<31) != 0) else 0\n",
    "            crc = (crc << 1) | b\n",
    "            crc ^= (poly & divide)\n",
    "            byte <<= 1\n",
    "\n",
    "    return (crc ^ bitmask) & bitmask"
   ]
  },
  {
   "cell_type": "code",
   "execution_count": 33,
   "id": "3d10d98d-4c16-43a9-84d4-31fd99f077d8",
   "metadata": {},
   "outputs": [
    {
     "name": "stdout",
     "output_type": "stream",
     "text": [
      "bytearray(b'I love listening to music!\\x00\\x00\\x00\\x00')\n",
      "0x19a7b413\n",
      "0x978f84d1\n"
     ]
    }
   ],
   "source": [
    "data = bytearray(b\"I love listening to music!\") + bytearray([0, 0, 0, 0])\n",
    "poly = 0x04C11DB7\n",
    "\n",
    "print(data)\n",
    "actual = crc32(data, poly)\n",
    "data_crc = data + bytearray([(actual >> 24) & 0xFF,(actual >> 16) & 0xFF,(actual >> 8) & 0xFF,(actual) & 0xFF])\n",
    "test_remainder = crc32(data_crc, poly)\n",
    "print(hex(actual))\n",
    "print(hex(test_remainder))\n"
   ]
  },
  {
   "cell_type": "code",
   "execution_count": null,
   "id": "268cc032-0b11-4ff2-aebf-deda01de6894",
   "metadata": {},
   "outputs": [],
   "source": []
  },
  {
   "cell_type": "code",
   "execution_count": null,
   "id": "61d199ac-4059-4a9a-9e19-c4b6e52842a4",
   "metadata": {},
   "outputs": [],
   "source": []
  }
 ],
 "metadata": {
  "kernelspec": {
   "display_name": "Python 3 (ipykernel)",
   "language": "python",
   "name": "python3"
  },
  "language_info": {
   "codemirror_mode": {
    "name": "ipython",
    "version": 3
   },
   "file_extension": ".py",
   "mimetype": "text/x-python",
   "name": "python",
   "nbconvert_exporter": "python",
   "pygments_lexer": "ipython3",
   "version": "3.10.12"
  }
 },
 "nbformat": 4,
 "nbformat_minor": 5
}
